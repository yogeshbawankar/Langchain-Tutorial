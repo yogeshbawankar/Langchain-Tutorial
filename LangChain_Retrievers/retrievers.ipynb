{
 "cells": [
  {
   "cell_type": "markdown",
   "id": "7c84ed23",
   "metadata": {},
   "source": [
    "# Wikipedia Retriver "
   ]
  },
  {
   "cell_type": "code",
   "execution_count": 27,
   "id": "ce3a374f",
   "metadata": {},
   "outputs": [],
   "source": [
    "from langchain_community.retrievers import WikipediaRetriever"
   ]
  },
  {
   "cell_type": "code",
   "execution_count": 28,
   "id": "6cbf96c0",
   "metadata": {},
   "outputs": [],
   "source": [
    "# Initialize the retriever \n",
    "retriever = WikipediaRetriever(top_k_results=2,lang=\"en\")"
   ]
  },
  {
   "cell_type": "code",
   "execution_count": 29,
   "id": "50a94d48",
   "metadata": {},
   "outputs": [],
   "source": [
    "# Define your query\n",
    "query = \"Top 10 most liked anime in 2025.\"\n",
    "\n",
    "# Get relevant Wikipedia documents\n",
    "docs = retriever.invoke(query)"
   ]
  },
  {
   "cell_type": "code",
   "execution_count": 30,
   "id": "176fa4a7",
   "metadata": {},
   "outputs": [
    {
     "name": "stdout",
     "output_type": "stream",
     "text": [
      "\n",
      "-- Result 1 --\n",
      "\n",
      "Content : \n",
      " Umamusume: Pretty Derby is a Japanese multimedia franchise created by Cygames. The franchise centers on anthropomorphised racehorses known as Umamusume (ウマ娘; lit. 'horse girls'), who compete in races inspired by real-life race tracks managed by the Japan Racing Association. Most characters are named after and modeled on actual racehorses, reflecting their namesakes' personalities, racing records, and relationships with other racehorses. Initially announced in 2016 as a mobile game, the project soon expanded to include multiple anime series, manga, and live concerts. \n",
      "The game was scheduled to debut in late 2018 for iOS and Android devices, but it was delayed to a February 2021 release, with a Windows client releasing a month later on DMM Games, then later on Google Play Games in April 2023. It would later be available in Korean by Kakao Games and Traditional Chinese by Komoe Game in June 2022, with the former language getting a PC version in a stand-alone client a year later, then later in Simplified Chinese by Bilibili in August 2024. An English-language edition was released worldwide in June 2025 for the aforementioned platforms, alongside a Steam release for both the Japanese and English versions, with the latter language being exclusively available on that platform.\n",
      "An anime television series adaptation produced by P.A. Works aired from April to June 2018. A second season now produced by Studio Kai, with the former studio assisting in its production, aired from January to March 2021. A third season produced solely by Studio Kai aired from October to December 2023. \n",
      "Alongside the main anime series, multiple anime spin-offs have been made. An anime television series adaptation of the manga Umayon aired from July to September 2020. Its sequel, titled Umayuru, premiered in October 2022. A web anime produced by Cygames' in-house animation studio CygamesPictures titled Umamusume Pretty Derby: Road to the Top aired from April to May 2023. An anime film also produced by CygamesPictures titled Umamusume Pretty Derby: Beginning of a New Era premiered in Japan in May 2024. An anime television series adaptation of Umamusume: Cinderella Gray produced by CygamesPictures premiered in April 2025, with a short web spinoff anime titled Umayuru: Pretty Gray premiering that same month.  \n",
      "\n",
      "\n",
      "== Gameplay ==\n",
      "Umamusume: Pretty Derby is a sports simulation game that allows players, who are referred in-game as \"trainers\", to nurture a horse girl's abilities and win various races. Players are able to use the game's gacha system to obtain two types of units: \"trainees\", who are the playable horse girls, and \"support cards\", which help a trainee by offering skills and abilities.\n",
      "The game's main mode is referred to as the \"Career\" mode, which allows the player to pick a trainee of their choice, choose the support cards that can benefit the trainee, and make them achieve a set list of goals catered to the chosen trainee. The gameplay loop is centered on a calendar system where every action the player makes accounts for one turn corresponding to half a month in a Japanese schoolyear, prompting the player to strategically plan their moves ahead of time before reaching a certain goal.\n",
      "During the Career mode, players allot their turns to either train their trainee and raise their statistics, allow them to rest or engage in recreation, or participate in races to gain more skill points to purchase skills and reach fan milestones. Players must also give attention to the trainee's mood, which functions as a multiplier and grants bonuses during training.\n",
      "Allotting a turn to training gives the player a further five options to choose to enhance a trainee during a race: speed, which dictates how fast they can run; stamina, which dictates how long they can maintain their run; power, which affects their acceleration and positioning; guts, which can offer additional stamina for them near the end of a race; and wit, which helps them in activating skills. Players are enc....\n",
      "\n",
      "-- Result 2 --\n",
      "\n",
      "Content : \n",
      " Jujutsu Kaisen (呪術廻戦; rgh. 'Sorcery Battle') is a Japanese anime television series produced by MAPPA, based on Gege Akutami's manga series Jujutsu Kaisen. The story follows high school student Yuji Itadori as he joins a secret organization of Jujutsu Sorcerers to eliminate a powerful Curse named Ryomen Sukuna, of whom Yuji becomes the host. The series broadcasts on MBS and TBS in Japan. It has been licensed by Crunchyroll for streaming outside of Asia, which premiered an English dub in November 2020. The anime's original soundtrack was released in April 2021.\n",
      "A prequel film set before the events of the main series, Jujutsu Kaisen 0, was released in December 2021.\n",
      "\n",
      "\n",
      "== Series overview ==\n",
      "\n",
      "\n",
      "== Cast and characters ==\n",
      "\n",
      "\n",
      "== Production ==\n",
      "Jujutsu Kaisen director Sunghoo Park had meetings with Shueisha and the Jujutsu Kaisen manga author Gege Akutami to discuss the details about adapting the long-form narrative into a seasonal anime structure. Park also felt the challenges from the MAPPA's staff in adapting the series' designs, build the characters, and create the \"Domain Expansion\" scenes during their production which he stated that it required a lots of detailed discussion with Akutami and Shueisha to enhance their works. Compared to his previous work The God of High School, Park acknowledges in working with different teams through the use of their technique and creativity to make their action scenes possible.\n",
      "Scriptwriter Hiroshi Seko discussed about the handling of the drama but also the comedic banter between the teenagers, adults, and the cursed spirits in the series which is mostly based on the original materials. Toho producer Hiroaki Matsutani also revealed the addition of the post-credits shorts \"Juju Sanpo\", in which an idea from Akutami came up with the draft and later submitting it to the staff. When discussing about the sound and music, Matsutani originally stated that they assigned Yoshiki Kobayashi as the composer, before its role was eventually given to both Hiroaki Tsutsumi and Yoshimasa Terui.\n",
      "\n",
      "\n",
      "== Release ==\n",
      "\n",
      "\n",
      "=== Season 1 ===\n",
      "\n",
      "The series was announced by Weekly Shōnen Jump in November 2019. The manga author, Gege Akutami, and the main cast members appeared at Jump Festa '20 on December 22, 2019. The series was produced by MAPPA and directed by Sunghoo Park. Hiroshi Seko was in charge of the scripts, Tadashi Hiramatsu designed the characters. While the anime had an advanced streaming debut on YouTube and Twitter on September 19, 2020, it aired for 24 episodes on MBS and TBS's Super Animeism block from October 3, 2020, to March 27, 2021. From episode 3 onwards, the series includes post-credits anime shorts titled \"Juju Sanpo\" (呪術さんぽ; lit. 'Jujutsu Stroll'), which focus on the daily lives of the characters.\n",
      "\n",
      "\n",
      "=== Season 2 and compilation film ===\n",
      "\n",
      "On February 12, 2022, a second season was announced. Shōta Goshozono replaced Sunghoo Park as the director, with Sayaka Koiso and Hiramatsu designing the characters. The season aired for 23 episodes from July 6 to December 28, 2023. It ran for two continuous cours and adapted the manga's \"Hidden Inventory / Premature Death\" and \"Shibuya Incident\" story arcs.\n",
      "A compilation film version of the \"Hidden Inventory / Premature Death\" story arc premiered in Japanese theaters on May 30, 2025.\n",
      "\n",
      "\n",
      "=== Upcoming sequel ===\n",
      "After the second season's finale, a sequel covering the \"Culling Game\" arc was announced. The format was not specified.\n",
      "\n",
      "\n",
      "=== International release ===\n",
      "The anime is licensed by Crunchyroll for streaming outside of Asia. Crunchyroll has released streaming dubs for the series in English, Spanish, Portuguese, French and German that premiered on November 20, 2020, with the English dub also premiering on HBO Max on December 4, 2020. Crunchyroll is also streaming for the second season. Viz Media released the first part of the first season on home video on February 28, 2023. In Asia-Pacific, Medialink licensed the series and streamed it on iQIYI and Ani-One Asia's YouTube c....\n"
     ]
    }
   ],
   "source": [
    "# Print retrived content \n",
    "for i ,doc in enumerate(docs):\n",
    "    print(f\"\\n-- Result {i+1} --\\n\")\n",
    "    print(f\"Content : \\n {doc.page_content}....\")\n"
   ]
  },
  {
   "cell_type": "markdown",
   "id": "68fabcc4",
   "metadata": {},
   "source": [
    "# Vector Store Retriever"
   ]
  },
  {
   "cell_type": "code",
   "execution_count": 31,
   "id": "cfc21492",
   "metadata": {},
   "outputs": [],
   "source": [
    "# Imports \n",
    "from langchain_community.vectorstores import Chroma\n",
    "from langchain_google_genai import GoogleGenerativeAIEmbeddings\n",
    "from langchain_core.documents import Document\n",
    "import os \n",
    "from dotenv import load_dotenv"
   ]
  },
  {
   "cell_type": "code",
   "execution_count": 32,
   "id": "30599535",
   "metadata": {},
   "outputs": [],
   "source": [
    "# Step 1: Your source documents\n",
    "documents = [\n",
    "    Document(page_content=\"LangChain helps developers build LLM applications easily.\"),\n",
    "    Document(page_content=\"Chroma is a vector database optimized for LLM-based search.\"),\n",
    "    Document(page_content=\"Embeddings convert text into high-dimensional vectors.\"),\n",
    "    Document(page_content=\"OpenAI provides powerful embedding models.\"),\n",
    "]"
   ]
  },
  {
   "cell_type": "code",
   "execution_count": 33,
   "id": "500d0f76",
   "metadata": {},
   "outputs": [],
   "source": [
    "# Step 2: Initialize embedding model \n",
    "model_name = os.environ.get(\"GOOGLE_EMBEDDING_MODEL\")\n",
    "\n",
    "embed_model = GoogleGenerativeAIEmbeddings(model = model_name)\n",
    "\n",
    "# Step 3: Create Chroma vector store in memory\n",
    "vectorStore = Chroma.from_documents(\n",
    "    documents = documents, \n",
    "    embedding = embed_model,\n",
    "    collection_name = \"my_collection\"\n",
    ")\n"
   ]
  },
  {
   "cell_type": "code",
   "execution_count": 34,
   "id": "a78016a1",
   "metadata": {},
   "outputs": [],
   "source": [
    "# Step 4: Convert vectorstore into a retriever \n",
    "\n",
    "retriever = vectorStore.as_retriever(search_kwargs={\"k\":2})"
   ]
  },
  {
   "cell_type": "code",
   "execution_count": 35,
   "id": "dfc7050d",
   "metadata": {},
   "outputs": [],
   "source": [
    "query = \"What is chroma use for?\"\n",
    "results = retriever.invoke(query)"
   ]
  },
  {
   "cell_type": "code",
   "execution_count": 36,
   "id": "d33ea3f3",
   "metadata": {},
   "outputs": [
    {
     "name": "stdout",
     "output_type": "stream",
     "text": [
      "\n",
      "-- Result 1 --\n",
      "\n",
      "Chroma is a vector database optimized for LLM-based search.\n",
      "\n",
      "-- Result 2 --\n",
      "\n",
      "Chroma is a vector database optimized for LLM-based search.\n"
     ]
    }
   ],
   "source": [
    "for i , doc in enumerate(results):\n",
    "    print(f\"\\n-- Result {i+1} --\\n\")\n",
    "    print(doc.page_content)"
   ]
  },
  {
   "cell_type": "markdown",
   "id": "fd192a44",
   "metadata": {},
   "source": [
    "# Maximum Marginal Relevance (MMR)"
   ]
  },
  {
   "cell_type": "code",
   "execution_count": 37,
   "id": "1d56cc65",
   "metadata": {},
   "outputs": [],
   "source": [
    "# Sample documents\n",
    "docs = [\n",
    "    Document(page_content=\"LangChain makes it easy to work with LLMs.\"),\n",
    "    Document(page_content=\"LangChain is used to build LLM based applications.\"),\n",
    "    Document(page_content=\"Chroma is used to store and search document embeddings.\"),\n",
    "    Document(page_content=\"Embeddings are vector representations of text.\"),\n",
    "    Document(page_content=\"MMR helps you get diverse results when doing similarity search.\"),\n",
    "    Document(page_content=\"LangChain supports Chroma, FAISS, Pinecone, and more.\"),\n",
    "]"
   ]
  },
  {
   "cell_type": "code",
   "execution_count": null,
   "id": "33879115",
   "metadata": {},
   "outputs": [],
   "source": [
    "from langchain_community.vectorstores import FAISS\n",
    "\n",
    "# Initialize GoogleGenerativeAIEmbeddings model\n",
    "embed_model = GoogleGenerativeAIEmbeddings(model=model_name)\n",
    "\n",
    "vectorStore = FAISS.from_documents(\n",
    "    documents=docs,\n",
    "    embedding=embed_model\n",
    ")\n",
    "\n"
   ]
  },
  {
   "cell_type": "code",
   "execution_count": 42,
   "id": "2a70640a",
   "metadata": {},
   "outputs": [],
   "source": [
    "# Enable MMR in retriever \n",
    "retriever = vectorStore.as_retriever(\n",
    "    search_type = \"mmr\",\n",
    "    search_kwargs = {\"k\":3,\"lambda_mult\":1} # K is the top results, lambda_mult relevance-diversity balance\n",
    ")"
   ]
  },
  {
   "cell_type": "code",
   "execution_count": 43,
   "id": "ed68752a",
   "metadata": {},
   "outputs": [],
   "source": [
    "query = \"What is langchain\"\n",
    "results = retriever.invoke(query)"
   ]
  },
  {
   "cell_type": "code",
   "execution_count": 44,
   "id": "1f676b1e",
   "metadata": {},
   "outputs": [
    {
     "name": "stdout",
     "output_type": "stream",
     "text": [
      "\n",
      "-- Result 1 --\n",
      "\n",
      "LangChain makes it easy to work with LLMs.\n",
      "\n",
      "-- Result 2 --\n",
      "\n",
      "LangChain is used to build LLM based applications.\n",
      "\n",
      "-- Result 3 --\n",
      "\n",
      "LangChain supports Chroma, FAISS, Pinecone, and more.\n"
     ]
    }
   ],
   "source": [
    "for i , doc in enumerate(results):\n",
    "    print(f\"\\n-- Result {i+1} --\\n\")\n",
    "    print(doc.page_content)"
   ]
  },
  {
   "cell_type": "markdown",
   "id": "a2cbe3fa",
   "metadata": {},
   "source": [
    "# Multi-Query Retriever"
   ]
  },
  {
   "cell_type": "code",
   "execution_count": 45,
   "id": "e9b93932",
   "metadata": {},
   "outputs": [],
   "source": [
    "from langchain_community.vectorstores import FAISS\n",
    "from langchain_core.documents import Document\n",
    "from langchain.retrievers.multi_query import MultiQueryRetriever\n",
    "\n",
    "# Relevant health & wellness documents\n",
    "all_docs = [\n",
    "    Document(page_content=\"Regular walking boosts heart health and can reduce symptoms of depression.\", metadata={\"source\": \"H1\"}),\n",
    "    Document(page_content=\"Consuming leafy greens and fruits helps detox the body and improve longevity.\", metadata={\"source\": \"H2\"}),\n",
    "    Document(page_content=\"Deep sleep is crucial for cellular repair and emotional regulation.\", metadata={\"source\": \"H3\"}),\n",
    "    Document(page_content=\"Mindfulness and controlled breathing lower cortisol and improve mental clarity.\", metadata={\"source\": \"H4\"}),\n",
    "    Document(page_content=\"Drinking sufficient water throughout the day helps maintain metabolism and energy.\", metadata={\"source\": \"H5\"}),\n",
    "    Document(page_content=\"The solar energy system in modern homes helps balance electricity demand.\", metadata={\"source\": \"I1\"}),\n",
    "    Document(page_content=\"Python balances readability with power, making it a popular system design language.\", metadata={\"source\": \"I2\"}),\n",
    "    Document(page_content=\"Photosynthesis enables plants to produce energy by converting sunlight.\", metadata={\"source\": \"I3\"}),\n",
    "    Document(page_content=\"The 2022 FIFA World Cup was held in Qatar and drew global energy and excitement.\", metadata={\"source\": \"I4\"}),\n",
    "    Document(page_content=\"Black holes bend spacetime and store immense gravitational energy.\", metadata={\"source\": \"I5\"}),\n",
    "]"
   ]
  },
  {
   "cell_type": "code",
   "execution_count": 46,
   "id": "676fa70a",
   "metadata": {},
   "outputs": [],
   "source": [
    "# create FAISS vector store. \n",
    "vectorStore = FAISS.from_documents(\n",
    "    documents=all_docs,\n",
    "    embedding=embed_model\n",
    "    )"
   ]
  },
  {
   "cell_type": "code",
   "execution_count": 50,
   "id": "3c9a8ec5",
   "metadata": {},
   "outputs": [],
   "source": [
    "# create retriever 1 -> simple retriever \n",
    "similarity_retriever = vectorStore.as_retriever(\n",
    "    search_type = \"similarity\",\n",
    "    search_kwargs={\"k\":5}\n",
    ")\n"
   ]
  },
  {
   "cell_type": "code",
   "execution_count": 52,
   "id": "d67a5a89",
   "metadata": {},
   "outputs": [],
   "source": [
    "# create a chat model \n",
    "from langchain_google_genai import GoogleGenerativeAI\n",
    "chat_model = GoogleGenerativeAI(model=os.environ.get(\"GOOGLE_CHAT_MODEL\"))\n",
    "\n",
    "# create retriever 2 -> we have use simple retiever but with llm\n",
    "multiquery_retriever = MultiQueryRetriever.from_llm(\n",
    "    retriever = vectorStore.as_retriever(search_kwargs={\"k\":5}),\n",
    "    llm=chat_model\n",
    ")"
   ]
  },
  {
   "cell_type": "code",
   "execution_count": 53,
   "id": "23db9456",
   "metadata": {},
   "outputs": [],
   "source": [
    "query = \"how to improve energy levels and maintain balance?\"\n",
    "\n",
    "# Retriver results \n",
    "similarity_results = similarity_retriever.invoke(query)\n",
    "multiquery_results = multiquery_retriever.invoke(query)"
   ]
  },
  {
   "cell_type": "code",
   "execution_count": null,
   "id": "c37ec4af",
   "metadata": {},
   "outputs": [],
   "source": [
    "print(\"\\n --- Similarity Retriever Results ----\\n\")\n",
    "for i , doc in enumerate(similarity_results):\n",
    "    print(f\"\\n-- Result {i+1} --\\n\")\n",
    "    print(doc.page_content)\n",
    "\n",
    "print(\"=\"*60)\n",
    "\n",
    "print(\"\\n --- Multi-Query Retriever Results ----\\n\")\n",
    "for i , doc in enumerate(multiquery_results):\n",
    "    print(f\"\\n-- Result {i+1} --\\n\")\n",
    "    print(doc.page_content)"
   ]
  },
  {
   "cell_type": "markdown",
   "id": "d93b7487",
   "metadata": {},
   "source": [
    "# Contextual Compression Retriver"
   ]
  },
  {
   "cell_type": "code",
   "execution_count": 59,
   "id": "2df7a3f7",
   "metadata": {},
   "outputs": [],
   "source": [
    "from langchain.retrievers.contextual_compression import ContextualCompressionRetriever\n",
    "from langchain.retrievers.document_compressors import LLMChainExtractor"
   ]
  },
  {
   "cell_type": "code",
   "execution_count": 56,
   "id": "b3e02b14",
   "metadata": {},
   "outputs": [],
   "source": [
    "# Recreate the document objects from the previous data\n",
    "docs = [\n",
    "    Document(page_content=(\n",
    "        \"\"\"The Grand Canyon is one of the most visited natural wonders in the world.\n",
    "        Photosynthesis is the process by which green plants convert sunlight into energy.\n",
    "        Millions of tourists travel to see it every year. The rocks date back millions of years.\"\"\"\n",
    "    ), metadata={\"source\": \"Doc1\"}),\n",
    "\n",
    "    Document(page_content=(\n",
    "        \"\"\"In medieval Europe, castles were built primarily for defense.\n",
    "        The chlorophyll in plant cells captures sunlight during photosynthesis.\n",
    "        Knights wore armor made of metal. Siege weapons were often used to breach castle walls.\"\"\"\n",
    "    ), metadata={\"source\": \"Doc2\"}),\n",
    "\n",
    "    Document(page_content=(\n",
    "        \"\"\"Basketball was invented by Dr. James Naismith in the late 19th century.\n",
    "        It was originally played with a soccer ball and peach baskets. NBA is now a global league.\"\"\"\n",
    "    ), metadata={\"source\": \"Doc3\"}),\n",
    "    \n",
    "    Document(page_content=(\n",
    "        \"\"\"The history of cinema began in the late 1800s. Silent films were the earliest form.\n",
    "        Thomas Edison was among the pioneers. Photosynthesis does not occur in animal cells.\n",
    "        Modern filmmaking involves complex CGI and sound design.\"\"\"\n",
    "    ), metadata={\"source\": \"Doc4\"})\n",
    "]"
   ]
  },
  {
   "cell_type": "code",
   "execution_count": 57,
   "id": "a4af7f91",
   "metadata": {},
   "outputs": [],
   "source": [
    "# create FAISS vector from the documents\n",
    "vectorStore = FAISS.from_documents(docs,embed_model)"
   ]
  },
  {
   "cell_type": "code",
   "execution_count": 58,
   "id": "24b3130b",
   "metadata": {},
   "outputs": [],
   "source": [
    "base_retriever = vectorStore.as_retriever(search_kwargs={\"k\":5})"
   ]
  },
  {
   "cell_type": "code",
   "execution_count": 60,
   "id": "8c30f99e",
   "metadata": {},
   "outputs": [],
   "source": [
    "# set up the compressor using an LLM\n",
    "compressor = LLMChainExtractor.from_llm(chat_model)"
   ]
  },
  {
   "cell_type": "code",
   "execution_count": 61,
   "id": "87abc087",
   "metadata": {},
   "outputs": [],
   "source": [
    "# create the contextual compression retriever \n",
    "compression_retriever = ContextualCompressionRetriever(\n",
    "    base_retriever=base_retriever,\n",
    "    base_compressor=compressor\n",
    ")"
   ]
  },
  {
   "cell_type": "code",
   "execution_count": 62,
   "id": "5046ee8e",
   "metadata": {},
   "outputs": [],
   "source": [
    "# Query the retriever\n",
    "query = \"What is photosynthesis\"\n",
    "compressed_results = compression_retriever.invoke(query)\n"
   ]
  },
  {
   "cell_type": "code",
   "execution_count": 63,
   "id": "90d299c6",
   "metadata": {},
   "outputs": [
    {
     "name": "stdout",
     "output_type": "stream",
     "text": [
      "\n",
      "-- Result 1 --\n",
      "\n",
      "Photosynthesis is the process by which green plants convert sunlight into energy.\n",
      "\n",
      "-- Result 2 --\n",
      "\n",
      "Photosynthesis does not occur in animal cells.\n",
      "\n",
      "-- Result 3 --\n",
      "\n",
      "The chlorophyll in plant cells captures sunlight during photosynthesis.\n"
     ]
    }
   ],
   "source": [
    "for i , doc in enumerate(compressed_results):\n",
    "    print(f\"\\n-- Result {i+1} --\\n\")\n",
    "    print(doc.page_content)"
   ]
  },
  {
   "cell_type": "code",
   "execution_count": null,
   "id": "6541a064",
   "metadata": {},
   "outputs": [],
   "source": []
  }
 ],
 "metadata": {
  "kernelspec": {
   "display_name": "myvenv",
   "language": "python",
   "name": "python3"
  },
  "language_info": {
   "codemirror_mode": {
    "name": "ipython",
    "version": 3
   },
   "file_extension": ".py",
   "mimetype": "text/x-python",
   "name": "python",
   "nbconvert_exporter": "python",
   "pygments_lexer": "ipython3",
   "version": "3.12.3"
  }
 },
 "nbformat": 4,
 "nbformat_minor": 5
}
