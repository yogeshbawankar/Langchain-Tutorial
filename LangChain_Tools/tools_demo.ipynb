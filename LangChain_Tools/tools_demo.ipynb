{
 "cells": [
  {
   "cell_type": "markdown",
   "id": "b0f96731",
   "metadata": {},
   "source": [
    "# Built in Tool -Shell Tool"
   ]
  },
  {
   "cell_type": "code",
   "execution_count": 30,
   "id": "58c498ad",
   "metadata": {},
   "outputs": [
    {
     "name": "stdout",
     "output_type": "stream",
     "text": [
      "Executing command:\n",
      " whoami\n",
      "yogesh\\lenovo\n",
      "\n"
     ]
    },
    {
     "name": "stderr",
     "output_type": "stream",
     "text": [
      "c:\\Users\\Lenovo\\Desktop\\LANGCHAIN_MODELS\\myvenv\\Lib\\site-packages\\langchain_community\\tools\\shell\\tool.py:33: UserWarning: The shell tool has no safeguards by default. Use at your own risk.\n",
      "  warnings.warn(\n"
     ]
    }
   ],
   "source": [
    "from langchain_community.tools import ShellTool\n",
    "\n",
    "shell_tool = ShellTool()\n",
    "\n",
    "result = shell_tool.invoke('whoami')\n",
    "\n",
    "print(result)"
   ]
  },
  {
   "cell_type": "markdown",
   "id": "11038733",
   "metadata": {},
   "source": [
    "# Custom Tools\n",
    "# Methoad 1 "
   ]
  },
  {
   "cell_type": "code",
   "execution_count": 31,
   "id": "f2fb1e47",
   "metadata": {},
   "outputs": [],
   "source": [
    "from langchain_core.tools import tool\n",
    "\n",
    "# Setp 1: create a function\n",
    "\n",
    "# def multiply(a,b):\n",
    "#     \"\"\"Multiply two numbers\"\"\"\n",
    "#     return a*b"
   ]
  },
  {
   "cell_type": "code",
   "execution_count": 32,
   "id": "7a8c9ba1",
   "metadata": {},
   "outputs": [],
   "source": [
    "# Step 2: add tool decorator\n",
    "@tool\n",
    "def multiply(a:int,b:int) -> int:\n",
    "    \"\"\"Multiply two numbers\"\"\"\n",
    "    return a*b"
   ]
  },
  {
   "cell_type": "code",
   "execution_count": 33,
   "id": "db95c8a6",
   "metadata": {},
   "outputs": [
    {
     "name": "stdout",
     "output_type": "stream",
     "text": [
      "15\n"
     ]
    }
   ],
   "source": [
    "result = multiply.invoke({\"a\":3,\"b\":5})\n",
    "\n",
    "print(result)"
   ]
  },
  {
   "cell_type": "code",
   "execution_count": 34,
   "id": "28c54ac0",
   "metadata": {},
   "outputs": [
    {
     "name": "stdout",
     "output_type": "stream",
     "text": [
      "multiply\n",
      "Multiply two numbers\n",
      "{'a': {'title': 'A', 'type': 'integer'}, 'b': {'title': 'B', 'type': 'integer'}}\n"
     ]
    }
   ],
   "source": [
    "print(multiply.name)\n",
    "print(multiply.description)\n",
    "print(multiply.args)"
   ]
  },
  {
   "cell_type": "markdown",
   "id": "22f9bc08",
   "metadata": {},
   "source": [
    "# Method 2 : StructuredTool"
   ]
  },
  {
   "cell_type": "code",
   "execution_count": 35,
   "id": "6bfbc432",
   "metadata": {},
   "outputs": [],
   "source": [
    "from langchain.tools import StructuredTool\n",
    "from pydantic import BaseModel, Field"
   ]
  },
  {
   "cell_type": "code",
   "execution_count": 36,
   "id": "7b551a27",
   "metadata": {},
   "outputs": [
    {
     "name": "stderr",
     "output_type": "stream",
     "text": [
      "c:\\Users\\Lenovo\\Desktop\\LANGCHAIN_MODELS\\myvenv\\Lib\\site-packages\\pydantic\\fields.py:1093: PydanticDeprecatedSince20: Using extra keyword arguments on `Field` is deprecated and will be removed. Use `json_schema_extra` instead. (Extra keys: 'required'). Deprecated in Pydantic V2.0 to be removed in V3.0. See Pydantic V2 Migration Guide at https://errors.pydantic.dev/2.11/migration/\n",
      "  warn(\n",
      "c:\\Users\\Lenovo\\Desktop\\LANGCHAIN_MODELS\\myvenv\\Lib\\site-packages\\pydantic\\fields.py:1093: PydanticDeprecatedSince20: Using extra keyword arguments on `Field` is deprecated and will be removed. Use `json_schema_extra` instead. (Extra keys: 'required'). Deprecated in Pydantic V2.0 to be removed in V3.0. See Pydantic V2 Migration Guide at https://errors.pydantic.dev/2.11/migration/\n",
      "  warn(\n"
     ]
    }
   ],
   "source": [
    "from typing import Required\n",
    "\n",
    "class MultiplyInput(BaseModel):\n",
    "    a: int = Field(required = True, description=\"The first number to add\")\n",
    "    b: int = Field(required = True, description=\"The second number to add\")"
   ]
  },
  {
   "cell_type": "code",
   "execution_count": 37,
   "id": "6cf08f04",
   "metadata": {},
   "outputs": [],
   "source": [
    "def multiply_fun(a:int,b:int) ->int:\n",
    "    return a*b"
   ]
  },
  {
   "cell_type": "code",
   "execution_count": 38,
   "id": "7d3ef626",
   "metadata": {},
   "outputs": [],
   "source": [
    "multiply_tool = StructuredTool.from_function(\n",
    "    func = multiply_fun,\n",
    "    name=\"multiply\",\n",
    "    description=\"Multiply two numbers\",\n",
    "    args_schema=MultiplyInput\n",
    ")"
   ]
  },
  {
   "cell_type": "code",
   "execution_count": 39,
   "id": "2d8fb78f",
   "metadata": {},
   "outputs": [
    {
     "name": "stdout",
     "output_type": "stream",
     "text": [
      "9\n"
     ]
    }
   ],
   "source": [
    "result = multiply_tool.invoke({'a':3,'b':3})\n",
    "print(result)"
   ]
  },
  {
   "cell_type": "markdown",
   "id": "4670eb85",
   "metadata": {},
   "source": [
    "# Method 3  : Base Tool"
   ]
  },
  {
   "cell_type": "code",
   "execution_count": 44,
   "id": "3a50c6ed",
   "metadata": {},
   "outputs": [
    {
     "name": "stderr",
     "output_type": "stream",
     "text": [
      "c:\\Users\\Lenovo\\Desktop\\LANGCHAIN_MODELS\\myvenv\\Lib\\site-packages\\pydantic\\fields.py:1093: PydanticDeprecatedSince20: Using extra keyword arguments on `Field` is deprecated and will be removed. Use `json_schema_extra` instead. (Extra keys: 'required'). Deprecated in Pydantic V2.0 to be removed in V3.0. See Pydantic V2 Migration Guide at https://errors.pydantic.dev/2.11/migration/\n",
      "  warn(\n",
      "c:\\Users\\Lenovo\\Desktop\\LANGCHAIN_MODELS\\myvenv\\Lib\\site-packages\\pydantic\\fields.py:1093: PydanticDeprecatedSince20: Using extra keyword arguments on `Field` is deprecated and will be removed. Use `json_schema_extra` instead. (Extra keys: 'required'). Deprecated in Pydantic V2.0 to be removed in V3.0. See Pydantic V2 Migration Guide at https://errors.pydantic.dev/2.11/migration/\n",
      "  warn(\n"
     ]
    }
   ],
   "source": [
    "from typing import Required,Type\n",
    "from langchain.tools import BaseTool\n",
    "\n",
    "class MultiplyInput(BaseModel):\n",
    "    a: int = Field(required = True, description=\"The first number to add\")\n",
    "    b: int = Field(required = True, description=\"The second number to add\")"
   ]
  },
  {
   "cell_type": "code",
   "execution_count": 48,
   "id": "ff2c4905",
   "metadata": {},
   "outputs": [],
   "source": [
    "class MultiplyTool(BaseTool):\n",
    "    name : str = \"multiply\"\n",
    "    description: str = \"Multiply two numbers\"\n",
    "    args_schema : Type[BaseModel] = MultiplyInput\n",
    "\n",
    "    def _run(self, a:int,b:int)-> int: \n",
    "        return a*b\n"
   ]
  },
  {
   "cell_type": "code",
   "execution_count": 49,
   "id": "7c3a27a1",
   "metadata": {},
   "outputs": [
    {
     "name": "stdout",
     "output_type": "stream",
     "text": [
      "9\n"
     ]
    }
   ],
   "source": [
    "multiply_tool = MultiplyTool()\n",
    "result = multiply_tool.invoke({'a':3,'b':3})\n",
    "print(result)"
   ]
  },
  {
   "cell_type": "markdown",
   "id": "83216998",
   "metadata": {},
   "source": [
    "# How to use custom tools"
   ]
  },
  {
   "cell_type": "code",
   "execution_count": null,
   "id": "98e8f8fd",
   "metadata": {},
   "outputs": [],
   "source": [
    "# custom tools \n",
    "\n",
    "@tool\n",
    "def add(a:int,b:int)->int:\n",
    "    \"\"\"Addition of two numbers\"\"\"\n",
    "    return a+b\n",
    "\n",
    "@tool\n",
    "def mul(a:int,b:int)->int:\n",
    "    \"\"\"Multiplication of two numbers\"\"\"\n",
    "    return a*b\n"
   ]
  },
  {
   "cell_type": "code",
   "execution_count": 56,
   "id": "65129cea",
   "metadata": {},
   "outputs": [],
   "source": [
    "class MathToolkit:\n",
    "    def get_tools(self):\n",
    "        return [add,mul]"
   ]
  },
  {
   "cell_type": "code",
   "execution_count": 57,
   "id": "c015533d",
   "metadata": {},
   "outputs": [],
   "source": [
    "toolkit = MathToolkit()\n",
    "tools = toolkit.get_tools()"
   ]
  },
  {
   "cell_type": "code",
   "execution_count": 58,
   "id": "16a2673b",
   "metadata": {},
   "outputs": [
    {
     "name": "stdout",
     "output_type": "stream",
     "text": [
      "Tool Name: add\n",
      "Tool Description :  Addition of two numbers\n",
      "Tool Argument: {'a': {'title': 'A', 'type': 'integer'}, 'b': {'title': 'B', 'type': 'integer'}}\n",
      "----------------------------------------------------------------------\n",
      "Tool Name: mul\n",
      "Tool Description :  Multiplication of two numbers\n",
      "Tool Argument: {'a': {'title': 'A', 'type': 'integer'}, 'b': {'title': 'B', 'type': 'integer'}}\n",
      "----------------------------------------------------------------------\n"
     ]
    }
   ],
   "source": [
    "for tool in tools:\n",
    "    print(\"Tool Name:\",tool.name)\n",
    "    print(\"Tool Description : \",tool.description)\n",
    "    print(\"Tool Argument:\",tool.args)\n",
    "    print(\"-\"*70)"
   ]
  },
  {
   "cell_type": "code",
   "execution_count": null,
   "id": "b38f975e",
   "metadata": {},
   "outputs": [],
   "source": []
  }
 ],
 "metadata": {
  "kernelspec": {
   "display_name": "myvenv",
   "language": "python",
   "name": "python3"
  },
  "language_info": {
   "codemirror_mode": {
    "name": "ipython",
    "version": 3
   },
   "file_extension": ".py",
   "mimetype": "text/x-python",
   "name": "python",
   "nbconvert_exporter": "python",
   "pygments_lexer": "ipython3",
   "version": "3.12.3"
  }
 },
 "nbformat": 4,
 "nbformat_minor": 5
}
