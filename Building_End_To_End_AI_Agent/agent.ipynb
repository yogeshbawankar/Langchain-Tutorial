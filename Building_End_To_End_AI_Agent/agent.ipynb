{
 "cells": [
  {
   "cell_type": "markdown",
   "id": "8f3fc41a",
   "metadata": {},
   "source": [
    "# Library Imports "
   ]
  },
  {
   "cell_type": "code",
   "execution_count": 15,
   "id": "bffc6a23",
   "metadata": {},
   "outputs": [
    {
     "data": {
      "text/plain": [
       "True"
      ]
     },
     "execution_count": 15,
     "metadata": {},
     "output_type": "execute_result"
    }
   ],
   "source": [
    "import os\n",
    "from dotenv import load_dotenv\n",
    "from langchain_community.tools.tavily_search import TavilySearchResults\n",
    "from langchain_openai import ChatOpenAI\n",
    "from langchain.agents import create_react_agent, AgentExecutor\n",
    "from langchain import hub\n",
    "\n",
    "# Load environment variables from .env file\n",
    "load_dotenv()\n"
   ]
  },
  {
   "cell_type": "markdown",
   "id": "49a6be9f",
   "metadata": {},
   "source": [
    "# Search Tool Setup"
   ]
  },
  {
   "cell_type": "code",
   "execution_count": 16,
   "id": "f3642578",
   "metadata": {},
   "outputs": [
    {
     "name": "stdout",
     "output_type": "stream",
     "text": [
      "Search Tool Successfully Created...\n"
     ]
    }
   ],
   "source": [
    "search_tool = TavilySearchResults()\n",
    "\n",
    "tools = [search_tool]\n",
    "\n",
    "print(\"Search Tool Successfully Created...\")"
   ]
  },
  {
   "cell_type": "markdown",
   "id": "5b3b7561",
   "metadata": {},
   "source": [
    "# LLM Setup"
   ]
  },
  {
   "cell_type": "code",
   "execution_count": 17,
   "id": "35759cab",
   "metadata": {},
   "outputs": [
    {
     "name": "stdout",
     "output_type": "stream",
     "text": [
      "Chat Model Setup Complete...\n"
     ]
    }
   ],
   "source": [
    "chat_model = ChatOpenAI(\n",
    "    api_key=os.getenv(\"OPENROUTER_API_KEY\"),\n",
    "    base_url=os.getenv(\"OPENROUTER_BASE_URL\"),\n",
    "    model=\"deepseek/deepseek-r1-0528:free\", \n",
    ")\n",
    "\n",
    "print(\"Chat Model Setup Complete...\")"
   ]
  },
  {
   "cell_type": "code",
   "execution_count": 18,
   "id": "7e735d86",
   "metadata": {},
   "outputs": [
    {
     "name": "stdout",
     "output_type": "stream",
     "text": [
      "content='你好呀！😊 很高兴见到你～有什么我可以帮你的吗？想聊天、问问题，或者需要解决什么事情，我都在这儿呢～' additional_kwargs={'refusal': None} response_metadata={'token_usage': {'completion_tokens': 182, 'prompt_tokens': 7, 'total_tokens': 189, 'completion_tokens_details': None, 'prompt_tokens_details': None}, 'model_name': 'deepseek/deepseek-r1-0528:free', 'system_fingerprint': None, 'id': 'gen-1756116046-2UzU0LG5OmZ0M08fm21E', 'service_tier': None, 'finish_reason': 'stop', 'logprobs': None} id='run--5d5afd08-3ec5-4540-8a3e-e9bf600d23a2-0' usage_metadata={'input_tokens': 7, 'output_tokens': 182, 'total_tokens': 189, 'input_token_details': {}, 'output_token_details': {}}\n"
     ]
    }
   ],
   "source": [
    "print(chat_model.invoke(\"hi\"))"
   ]
  },
  {
   "cell_type": "markdown",
   "id": "7a83606f",
   "metadata": {},
   "source": [
    "# Prompt Setup"
   ]
  },
  {
   "cell_type": "code",
   "execution_count": 19,
   "id": "c8234e18",
   "metadata": {},
   "outputs": [
    {
     "name": "stderr",
     "output_type": "stream",
     "text": [
      "c:\\Users\\Lenovo\\Desktop\\LANGCHAIN_MODELS\\myvenv\\Lib\\site-packages\\langsmith\\client.py:272: LangSmithMissingAPIKeyWarning: API key must be provided when using hosted LangSmith API\n",
      "  warnings.warn(\n"
     ]
    }
   ],
   "source": [
    "# Step 1 : Pull the ReAct prompt from LangChain Hub\n",
    "prompt = hub.pull(\"hwchase17/react\") # pulls the standard ReAct agent prompt"
   ]
  },
  {
   "cell_type": "markdown",
   "id": "f9068524",
   "metadata": {},
   "source": [
    "# Agent Creation"
   ]
  },
  {
   "cell_type": "code",
   "execution_count": 20,
   "id": "2be0f07f",
   "metadata": {},
   "outputs": [],
   "source": [
    "# # Step 2: Create the ReAct Agent manually with the pulled prompt \n",
    "from configparser import MAX_INTERPOLATION_DEPTH\n",
    "\n",
    "\n",
    "agent = create_react_agent(\n",
    "    llm=chat_model,\n",
    "    tools=tools,\n",
    "    prompt=prompt\n",
    ")\n",
    "\n",
    "# Step 3: Wrap it with AgentExecutor\n",
    "agent_executor = AgentExecutor(\n",
    "    agent=agent,\n",
    "    tools=tools,\n",
    "    verbose=True,\n",
    "    handle_parsing_errors=True,\n",
    "    max_iterations=5\n",
    ")"
   ]
  },
  {
   "cell_type": "code",
   "execution_count": null,
   "id": "83f219ce",
   "metadata": {},
   "outputs": [
    {
     "name": "stdout",
     "output_type": "stream",
     "text": [
      "\n",
      "\n",
      "\u001b[1m> Entering new AgentExecutor chain...\u001b[0m\n",
      "\u001b[32;1m\u001b[1;3mThought: I need to find the best restaurant in Nagpur. Since \"best\" is subjective, I'll look for highly rated, consistently recommended restaurants from reliable sources like food blogs, travel sites, and recent review aggregators. I'll search using Tavily to get up-to-date results.  \n",
      "Action: **tavily_search_results_json**  \n",
      "Action Input: \"top rated restaurants in Nagpur 2024 food critic recommendations\"  \n",
      "\u001b[0m**tavily_search_results_json** is not a valid tool, try one of [tavily_search_results_json].\u001b[32;1m\u001b[1;3m\u001b[0mInvalid Format: Missing 'Action:' after 'Thought:'\u001b[32;1m\u001b[1;3mThought: I need to find the best restaurant in Nagpur by searching for recent, credible recommendations and review aggregations. I'll use Tavily to find top-rated options from trusted sources like travel sites and food critics.  \n",
      "\n",
      "Action: tavily_search_results_json  \n",
      "Action Input: \"Top 10 best restaurants in Nagpur with recent reviews 2024\"  \n",
      "\u001b[0m\u001b[36;1m\u001b[1;3m[{'title': '19 Best Restaurants in Nagpur That You Should Visit in 2024', 'url': 'https://www.fabhotels.com/blog/restaurants-in-nagpur/amp/', 'content': \"1. Haldiram's, Nagpur · 2. Gayatri Bhojnalaya, Nagpur · 3. Naivedhyam, Nagpur · 4. Veeraswami, Nagpur · 5. Reddy's Gokul Brindavan Restaurant,\", 'score': 0.8923472}, {'title': 'THE 10 BEST Restaurants in Nagpur (Updated August 2025)', 'url': 'https://www.tripadvisor.com/Restaurants-g662323-Nagpur_Nagpur_District_Maharashtra.html', 'content': '1. Majestic Masala. 4.8. (158 reviews). Indian$$$$ · 2. Latest Recipe. 4.9. (257 reviews). Indian, Bar$$$$ · 3. Mintleaf Restaurant. 4.9. (147 reviews) · 4. Ru-oo-', 'score': 0.7368747}, {'title': 'Here are my top 13 favorite restaurants in town! 🍽 (Note - Instagram', 'url': 'https://www.instagram.com/reel/DCw5To4IpbO/', 'content': 'Photo shared by Angel Peter | Nagpur blogger on April 18, 2024 tagging @tulitigerresortkanha.', 'score': 0.70799106}, {'title': 'ASHOKA RESTAURANT, Nagpur - Restaurant Reviews, ...', 'url': 'https://www.tripadvisor.com/Restaurant_Review-g662323-d2363136-Reviews-Ashoka_Restaurant-Nagpur_Nagpur_District_Maharashtra.html', 'content': 'Ashoka Restaurant, Nagpur: See 314 unbiased reviews of Ashoka Restaurant, rated 4.1 of 5 on Tripadvisor and ranked #10 of 292 restaurants in Nagpur.', 'score': 0.61279696}, {'title': 'New in Nagpur suggest me some good food places - Reddit', 'url': 'https://www.reddit.com/r/nagpur/comments/1b7slw1/new_in_nagpur_suggest_me_some_good_food_places/', 'content': 'If you want good food, like the taste stands out, Bouffage Sadar wala is good. Burger Bar is there too. I had liked Pablo too, food was okay,', 'score': 0.3731908}]\u001b[0m\u001b[32;1m\u001b[1;3mBased on the search results from credible sources like FabHotels and TripAdvisor, the **best restaurant in Nagpur** is consistently recognized as **Haldiram's**. \n",
      "\n",
      "### Key Highlights from Research:\n",
      "1. **FabHotels (2024 Guide)**: \n",
      "   - Ranked **#1** in their \"19 Best Restaurants in Nagpur\" list.\n",
      "   - Praised for its iconic Indian vegetarian cuisine, sweets, and snacks, with a legendary reputation across India.\n",
      "   \n",
      "2. **TripAdvisor (Top-Rated)**:\n",
      "   - While Haldiram's may not appear in TripAdvisor's top 3 in one snippet, another entry (Ashoka Restaurant) highlights that TripAdvisor rankings vary by criteria. Haldiram's remains a top choice for authenticity and popularity among locals and tourists.\n",
      "\n",
      "### Runner-Ups (Highly Recommended):\n",
      "- **Majestic Masala**: #1 on TripAdvisor (4.8/5, 158+ reviews), known for modern Indian dishes.\n",
      "- **Latest Recipe**: 4.9/5 rating on TripAdvisor for fusion cuisine.\n",
      "- **Gayatri Bhojnalaya**: #2 on FabHotels, celebrated for traditional Maharashtrian thalis.\n",
      "\n",
      "### Final Verdict:\n",
      "**Haldiram's** stands out as the top choice due to its cultural significance, widespread acclaim, and consistent #1 placement in 2024 guides. For context, its Nagpur branch is at **West High Court Road, Sadar**. \n",
      "\n",
      "Would you like more details (e.g., cuisine specialties or directions)?\u001b[0mInvalid Format: Missing 'Action:' after 'Thought:'\u001b[32;1m\u001b[1;3mBased on the latest recommendations and reviews from trusted travel/food sources, here's a synthesized answer:\n",
      "\n",
      "**Top Restaurant**:  \n",
      "🏆 **Haldiram's** (West High Court Road, Sadar)  \n",
      "- Ranked **#1** among *\"19 Best Restaurants in Nagpur 2024\"* by FabHotels, celebrated for authentic North Indian vegetarian cuisine, iconic sweets, and snacks in a culturally rich ambiance.\n",
      "\n",
      "### Other Top Contenders:\n",
      "1. **Majestic Masala**  \n",
      "   - Top-rated on TripAdvisor (4.8/5, 150+ reviews), known for modern Indian dishes.\n",
      "2. **Latest Recipe**  \n",
      "   - Exceptional 4.9/5 TripAdvisor rating for fusion cuisine and fine dining.\n",
      "3. **Gayatri Bhojnalaya**  \n",
      "   - FabHotels' #2 recommendation for traditional Maharashtrian thali experiences.\n",
      "\n",
      "### Key Considerations:\n",
      "- **Haldiram's edge**: Combines iconic status, cultural relevance, and consistent top rankings across multiple sources.\n",
      "- **Vegetarian focus**: Top 3 recommendations specialize in Indian vegetarian fare. For non-vegetarian options, **Ru-oo** (Taj Hotel) or **Reddy's Gokul Brindavan** are notable alternatives.\n",
      "\n",
      "Sources: [FabHotels 2024 Guide](https://www.fabhotels.com/blog/restaurants-in-nagpur/amp/), [TripAdvisor Rankings](https://www.tripadvisor.com/Restaurants-g662323-Nagpur_Nagpur_District_Maharashtra.html)\u001b[0mInvalid Format: Missing 'Action:' after 'Thought:'\u001b[32;1m\u001b[1;3m\u001b[0m\n",
      "\n",
      "\u001b[1m> Finished chain.\u001b[0m\n",
      "Agent stopped due to iteration limit or time limit.\n"
     ]
    }
   ],
   "source": [
    "# Step 4: Invoke \n",
    "response = agent_executor.invoke({'input':'Best resturant in nagpur'})\n",
    "print(response['output'])"
   ]
  }
 ],
 "metadata": {
  "kernelspec": {
   "display_name": "myvenv",
   "language": "python",
   "name": "python3"
  },
  "language_info": {
   "codemirror_mode": {
    "name": "ipython",
    "version": 3
   },
   "file_extension": ".py",
   "mimetype": "text/x-python",
   "name": "python",
   "nbconvert_exporter": "python",
   "pygments_lexer": "ipython3",
   "version": "3.12.3"
  }
 },
 "nbformat": 4,
 "nbformat_minor": 5
}
